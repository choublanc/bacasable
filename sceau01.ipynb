{
 "cells": [
  {
   "cell_type": "code",
   "execution_count": 2,
   "id": "0dca66cd",
   "metadata": {},
   "outputs": [
    {
     "name": "stderr",
     "output_type": "stream",
     "text": [
      "/tmp/ipykernel_10479/1860759163.py:33: DeprecationWarning: textsize is deprecated and will be removed in Pillow 10 (2023-07-01). Use textbbox or textlength instead.\n",
      "  text_width, text_height = draw.textsize(date_naissance, font=font)\n"
     ]
    }
   ],
   "source": [
    "# prend une pelle et un sceau\n",
    "import tkinter as tk\n",
    "from tkinter import simpledialog, filedialog, messagebox\n",
    "from PIL import Image, ImageDraw, ImageFont, ImageFilter\n",
    "\n",
    "# Créer une fenêtre Tkinter\n",
    "root = tk.Tk()\n",
    "root.withdraw()  # Ne pas afficher la fenêtre Tkinter\n",
    "\n",
    "# Demander la date de naissance\n",
    "date_naissance = simpledialog.askstring(\"Input\", \"Quelle est votre date de naissance ?\", parent=root)\n",
    "\n",
    "# Vérifications...\n",
    "# (Votre code de vérification ici)\n",
    "\n",
    "# Demander le chemin de l'image\n",
    "chemin_image = filedialog.askopenfilename(title=\"Sélectionnez une image\", filetypes=[(\"Image Files\", \"*.jpg\")])\n",
    "if not chemin_image:\n",
    "    messagebox.showerror(\"Erreur\", \"Vous devez sélectionner une image.\")\n",
    "    exit()\n",
    "\n",
    "# Ouvrir l'image et ajouter un flou\n",
    "try:\n",
    "    image = Image.open(chemin_image)\n",
    "except Exception as e:\n",
    "    messagebox.showerror(\"Erreur\", f\"Impossible d'ouvrir l'image : {e}\")\n",
    "    exit()\n",
    "\n",
    "image = image.filter(ImageFilter.BLUR)\n",
    "\n",
    "draw = ImageDraw.Draw(image)\n",
    "font = ImageFont.load_default()\n",
    "text_width, text_height = draw.textsize(date_naissance, font=font)\n",
    "image_width, image_height = image.size\n",
    "x = (image_width - text_width) / 2\n",
    "y = (image_height - text_height) / 2\n",
    "\n",
    "# Dessiner le bord du texte\n",
    "border_color = \"black\"\n",
    "for dx in range(-1, 2):\n",
    "    for dy in range(-1, 2):\n",
    "        draw.text((x + dx, y + dy), date_naissance, font=font, fill=border_color)\n",
    "\n",
    "# Dessiner le texte principal\n",
    "text_color = \"white\"\n",
    "draw.text((x, y), date_naissance, font=font, fill=text_color)\n",
    "\n",
    "# Sauvegarder et afficher l'image\n",
    "image.save(\"image_avec_date.png\")\n",
    "image.show()\n"
   ]
  },
  {
   "cell_type": "code",
   "execution_count": null,
   "id": "494940d5-72d5-4c29-b89e-19dced8510ba",
   "metadata": {},
   "outputs": [],
   "source": []
  }
 ],
 "metadata": {
  "kernelspec": {
   "display_name": "Python 3 (ipykernel)",
   "language": "python",
   "name": "python3"
  },
  "language_info": {
   "codemirror_mode": {
    "name": "ipython",
    "version": 3
   },
   "file_extension": ".py",
   "mimetype": "text/x-python",
   "name": "python",
   "nbconvert_exporter": "python",
   "pygments_lexer": "ipython3",
   "version": "3.11.5"
  }
 },
 "nbformat": 4,
 "nbformat_minor": 5
}
